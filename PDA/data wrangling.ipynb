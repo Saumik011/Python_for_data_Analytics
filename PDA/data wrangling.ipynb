{
  "cells": [
    {
      "cell_type": "code",
      "execution_count": 2,
      "metadata": {
        "trusted": true
      },
      "outputs": [
        {
          "data": {
            "text/html": [
              "<div>\n",
              "<style scoped>\n",
              "    .dataframe tbody tr th:only-of-type {\n",
              "        vertical-align: middle;\n",
              "    }\n",
              "\n",
              "    .dataframe tbody tr th {\n",
              "        vertical-align: top;\n",
              "    }\n",
              "\n",
              "    .dataframe thead th {\n",
              "        text-align: right;\n",
              "    }\n",
              "</style>\n",
              "<table border=\"1\" class=\"dataframe\">\n",
              "  <thead>\n",
              "    <tr style=\"text-align: right;\">\n",
              "      <th></th>\n",
              "      <th>Name</th>\n",
              "      <th>Age</th>\n",
              "      <th>Gender</th>\n",
              "      <th>Marks</th>\n",
              "    </tr>\n",
              "  </thead>\n",
              "  <tbody>\n",
              "    <tr>\n",
              "      <th>0</th>\n",
              "      <td>Jai</td>\n",
              "      <td>17</td>\n",
              "      <td>M</td>\n",
              "      <td>90</td>\n",
              "    </tr>\n",
              "    <tr>\n",
              "      <th>1</th>\n",
              "      <td>Princi</td>\n",
              "      <td>17</td>\n",
              "      <td>F</td>\n",
              "      <td>76</td>\n",
              "    </tr>\n",
              "    <tr>\n",
              "      <th>2</th>\n",
              "      <td>Gaurav</td>\n",
              "      <td>18</td>\n",
              "      <td>M</td>\n",
              "      <td>NaN</td>\n",
              "    </tr>\n",
              "    <tr>\n",
              "      <th>3</th>\n",
              "      <td>Anuj</td>\n",
              "      <td>17</td>\n",
              "      <td>M</td>\n",
              "      <td>74</td>\n",
              "    </tr>\n",
              "    <tr>\n",
              "      <th>4</th>\n",
              "      <td>Ravi</td>\n",
              "      <td>18</td>\n",
              "      <td>M</td>\n",
              "      <td>65</td>\n",
              "    </tr>\n",
              "    <tr>\n",
              "      <th>5</th>\n",
              "      <td>Natasha</td>\n",
              "      <td>17</td>\n",
              "      <td>F</td>\n",
              "      <td>NaN</td>\n",
              "    </tr>\n",
              "    <tr>\n",
              "      <th>6</th>\n",
              "      <td>Riya</td>\n",
              "      <td>17</td>\n",
              "      <td>F</td>\n",
              "      <td>71</td>\n",
              "    </tr>\n",
              "  </tbody>\n",
              "</table>\n",
              "</div>"
            ],
            "text/plain": [
              "      Name  Age Gender Marks\n",
              "0      Jai   17      M    90\n",
              "1   Princi   17      F    76\n",
              "2   Gaurav   18      M   NaN\n",
              "3     Anuj   17      M    74\n",
              "4     Ravi   18      M    65\n",
              "5  Natasha   17      F   NaN\n",
              "6     Riya   17      F    71"
            ]
          },
          "execution_count": 2,
          "metadata": {},
          "output_type": "execute_result"
        }
      ],
      "source": [
        "import pandas as pd\n",
        " \n",
        "data = {'Name': ['Jai', 'Princi', 'Gaurav',\n",
        "                 'Anuj', 'Ravi', 'Natasha', 'Riya'],\n",
        "        'Age': [17, 17, 18, 17, 18, 17, 17],\n",
        "        'Gender': ['M', 'F', 'M', 'M', 'M', 'F', 'F'],\n",
        "        'Marks': [90, 76, 'NaN', 74, 65, 'NaN', 71]}\n",
        " \n",
        "df = pd.DataFrame(data)\n",
        " \n",
        "df"
      ]
    },
    {
      "cell_type": "code",
      "execution_count": 7,
      "metadata": {
        "trusted": true
      },
      "outputs": [
        {
          "data": {
            "text/html": [
              "<div>\n",
              "<style scoped>\n",
              "    .dataframe tbody tr th:only-of-type {\n",
              "        vertical-align: middle;\n",
              "    }\n",
              "\n",
              "    .dataframe tbody tr th {\n",
              "        vertical-align: top;\n",
              "    }\n",
              "\n",
              "    .dataframe thead th {\n",
              "        text-align: right;\n",
              "    }\n",
              "</style>\n",
              "<table border=\"1\" class=\"dataframe\">\n",
              "  <thead>\n",
              "    <tr style=\"text-align: right;\">\n",
              "      <th></th>\n",
              "      <th>Name</th>\n",
              "      <th>Age</th>\n",
              "      <th>Gender</th>\n",
              "      <th>Marks</th>\n",
              "    </tr>\n",
              "  </thead>\n",
              "  <tbody>\n",
              "    <tr>\n",
              "      <th>0</th>\n",
              "      <td>Jai</td>\n",
              "      <td>17</td>\n",
              "      <td>M</td>\n",
              "      <td>90.0</td>\n",
              "    </tr>\n",
              "    <tr>\n",
              "      <th>1</th>\n",
              "      <td>Princi</td>\n",
              "      <td>17</td>\n",
              "      <td>F</td>\n",
              "      <td>76.0</td>\n",
              "    </tr>\n",
              "    <tr>\n",
              "      <th>2</th>\n",
              "      <td>Gaurav</td>\n",
              "      <td>18</td>\n",
              "      <td>M</td>\n",
              "      <td>75.2</td>\n",
              "    </tr>\n",
              "    <tr>\n",
              "      <th>3</th>\n",
              "      <td>Anuj</td>\n",
              "      <td>17</td>\n",
              "      <td>M</td>\n",
              "      <td>74.0</td>\n",
              "    </tr>\n",
              "    <tr>\n",
              "      <th>4</th>\n",
              "      <td>Ravi</td>\n",
              "      <td>18</td>\n",
              "      <td>M</td>\n",
              "      <td>65.0</td>\n",
              "    </tr>\n",
              "    <tr>\n",
              "      <th>5</th>\n",
              "      <td>Natasha</td>\n",
              "      <td>17</td>\n",
              "      <td>F</td>\n",
              "      <td>75.2</td>\n",
              "    </tr>\n",
              "    <tr>\n",
              "      <th>6</th>\n",
              "      <td>Riya</td>\n",
              "      <td>17</td>\n",
              "      <td>F</td>\n",
              "      <td>71.0</td>\n",
              "    </tr>\n",
              "  </tbody>\n",
              "</table>\n",
              "</div>"
            ],
            "text/plain": [
              "      Name  Age Gender  Marks\n",
              "0      Jai   17      M   90.0\n",
              "1   Princi   17      F   76.0\n",
              "2   Gaurav   18      M   75.2\n",
              "3     Anuj   17      M   74.0\n",
              "4     Ravi   18      M   65.0\n",
              "5  Natasha   17      F   75.2\n",
              "6     Riya   17      F   71.0"
            ]
          },
          "execution_count": 7,
          "metadata": {},
          "output_type": "execute_result"
        }
      ],
      "source": [
        "\n",
        "c = avg = 0\n",
        "for ele in df['Marks']:\n",
        "    if str(ele).isnumeric():\n",
        "        c += 1\n",
        "        avg += ele\n",
        "avg /= c\n",
        "\n",
        "\n",
        "df = df.replace(to_replace=\"NaN\",\n",
        "                value=avg)\n",
        " \n",
        "df"
      ]
    },
    {
      "cell_type": "code",
      "execution_count": 8,
      "metadata": {
        "trusted": true
      },
      "outputs": [
        {
          "data": {
            "text/html": [
              "<div>\n",
              "<style scoped>\n",
              "    .dataframe tbody tr th:only-of-type {\n",
              "        vertical-align: middle;\n",
              "    }\n",
              "\n",
              "    .dataframe tbody tr th {\n",
              "        vertical-align: top;\n",
              "    }\n",
              "\n",
              "    .dataframe thead th {\n",
              "        text-align: right;\n",
              "    }\n",
              "</style>\n",
              "<table border=\"1\" class=\"dataframe\">\n",
              "  <thead>\n",
              "    <tr style=\"text-align: right;\">\n",
              "      <th></th>\n",
              "      <th>Name</th>\n",
              "      <th>Age</th>\n",
              "      <th>Gender</th>\n",
              "      <th>Marks</th>\n",
              "    </tr>\n",
              "  </thead>\n",
              "  <tbody>\n",
              "    <tr>\n",
              "      <th>0</th>\n",
              "      <td>Jai</td>\n",
              "      <td>17</td>\n",
              "      <td>0.0</td>\n",
              "      <td>90.0</td>\n",
              "    </tr>\n",
              "    <tr>\n",
              "      <th>1</th>\n",
              "      <td>Princi</td>\n",
              "      <td>17</td>\n",
              "      <td>1.0</td>\n",
              "      <td>76.0</td>\n",
              "    </tr>\n",
              "    <tr>\n",
              "      <th>2</th>\n",
              "      <td>Gaurav</td>\n",
              "      <td>18</td>\n",
              "      <td>0.0</td>\n",
              "      <td>75.2</td>\n",
              "    </tr>\n",
              "    <tr>\n",
              "      <th>3</th>\n",
              "      <td>Anuj</td>\n",
              "      <td>17</td>\n",
              "      <td>0.0</td>\n",
              "      <td>74.0</td>\n",
              "    </tr>\n",
              "    <tr>\n",
              "      <th>4</th>\n",
              "      <td>Ravi</td>\n",
              "      <td>18</td>\n",
              "      <td>0.0</td>\n",
              "      <td>65.0</td>\n",
              "    </tr>\n",
              "    <tr>\n",
              "      <th>5</th>\n",
              "      <td>Natasha</td>\n",
              "      <td>17</td>\n",
              "      <td>1.0</td>\n",
              "      <td>75.2</td>\n",
              "    </tr>\n",
              "    <tr>\n",
              "      <th>6</th>\n",
              "      <td>Riya</td>\n",
              "      <td>17</td>\n",
              "      <td>1.0</td>\n",
              "      <td>71.0</td>\n",
              "    </tr>\n",
              "  </tbody>\n",
              "</table>\n",
              "</div>"
            ],
            "text/plain": [
              "      Name  Age  Gender  Marks\n",
              "0      Jai   17     0.0   90.0\n",
              "1   Princi   17     1.0   76.0\n",
              "2   Gaurav   18     0.0   75.2\n",
              "3     Anuj   17     0.0   74.0\n",
              "4     Ravi   18     0.0   65.0\n",
              "5  Natasha   17     1.0   75.2\n",
              "6     Riya   17     1.0   71.0"
            ]
          },
          "execution_count": 8,
          "metadata": {},
          "output_type": "execute_result"
        }
      ],
      "source": [
        "\n",
        "df['Gender'] = df['Gender'].map({'M': 0,\n",
        "                                 'F': 1, }).astype(float)\n",
        " \n",
        "df"
      ]
    },
    {
      "cell_type": "code",
      "execution_count": 31,
      "metadata": {
        "trusted": true
      },
      "outputs": [
        {
          "data": {
            "text/html": [
              "<div>\n",
              "<style scoped>\n",
              "    .dataframe tbody tr th:only-of-type {\n",
              "        vertical-align: middle;\n",
              "    }\n",
              "\n",
              "    .dataframe tbody tr th {\n",
              "        vertical-align: top;\n",
              "    }\n",
              "\n",
              "    .dataframe thead th {\n",
              "        text-align: right;\n",
              "    }\n",
              "</style>\n",
              "<table border=\"1\" class=\"dataframe\">\n",
              "  <thead>\n",
              "    <tr style=\"text-align: right;\">\n",
              "      <th></th>\n",
              "      <th>Name</th>\n",
              "      <th>Gender</th>\n",
              "      <th>Marks</th>\n",
              "    </tr>\n",
              "  </thead>\n",
              "  <tbody>\n",
              "    <tr>\n",
              "      <th>0</th>\n",
              "      <td>Jai</td>\n",
              "      <td>0.0</td>\n",
              "      <td>90.0</td>\n",
              "    </tr>\n",
              "  </tbody>\n",
              "</table>\n",
              "</div>"
            ],
            "text/plain": [
              "  Name  Gender  Marks\n",
              "0  Jai     0.0   90.0"
            ]
          },
          "execution_count": 31,
          "metadata": {},
          "output_type": "execute_result"
        }
      ],
      "source": [
        "\n",
        "df = df[df['Marks'] >= 70].copy()\n",
        "df\n"
      ]
    },
    {
      "cell_type": "code",
      "execution_count": 40,
      "metadata": {
        "tags": [],
        "trusted": true
      },
      "outputs": [
        {
          "name": "stdout",
          "output_type": "stream",
          "text": [
            "    ID     NAME BRANCH\n",
            "0  101  Jagroop    CSE\n",
            "1  102  Praveen    CSE\n",
            "2  103   Harjot    CSE\n",
            "3  104    Pooja    CSE\n",
            "4  105    Rahul    CSE\n",
            "5  106   Nikita    CSE\n",
            "6  107  Saurabh    CSE\n",
            "7  108    Ayush    CSE\n",
            "8  109    Dolly    CSE\n",
            "9  110    Mohit    CSE\n"
          ]
        }
      ],
      "source": [
        "\n",
        "import pandas as pd\n",
        "\n",
        "details = pd.DataFrame({\n",
        "'ID': [101, 102, 103, 104, 105, 106,\n",
        "107, 108, 109, 110],\n",
        "'NAME': ['Jagroop', 'Praveen', 'Harjot',\n",
        "'Pooja', 'Rahul', 'Nikita',\n",
        "'Saurabh', 'Ayush', 'Dolly', \"Mohit\"],\n",
        "'BRANCH': ['CSE', 'CSE', 'CSE', 'CSE', 'CSE',\n",
        "'CSE', 'CSE', 'CSE', 'CSE', 'CSE']})\n",
        "\n",
        "print(details)\n"
      ]
    },
    {
      "cell_type": "code",
      "execution_count": 34,
      "metadata": {
        "tags": [],
        "trusted": true
      },
      "outputs": [
        {
          "name": "stdout",
          "output_type": "stream",
          "text": [
            "    ID PENDING\n",
            "0  101    5000\n",
            "1  102     250\n",
            "2  103     NIL\n",
            "3  104    9000\n",
            "4  105   15000\n",
            "5  106     NIL\n",
            "6  107    4500\n",
            "7  108    1800\n",
            "8  109     250\n",
            "9  110     NIL\n"
          ]
        }
      ],
      "source": [
        "\n",
        "import pandas as pd\n",
        "\n",
        "fees_status = pd.DataFrame(\n",
        "{'ID': [101, 102, 103, 104, 105,\n",
        "106, 107, 108, 109, 110],\n",
        "'PENDING': ['5000', '250', 'NIL',\n",
        "'9000', '15000', 'NIL',\n",
        "'4500', '1800', '250', 'NIL']})\n",
        "\n",
        "print(fees_status)\n"
      ]
    },
    {
      "cell_type": "code",
      "execution_count": 35,
      "metadata": {
        "trusted": true
      },
      "outputs": [
        {
          "name": "stdout",
          "output_type": "stream",
          "text": [
            "    ID     NAME BRANCH PENDING\n",
            "0  101  Jagroop    CSE    5000\n",
            "1  102  Praveen    CSE     250\n",
            "2  103   Harjot    CSE     NIL\n",
            "3  104    Pooja    CSE    9000\n",
            "4  105    Rahul    CSE   15000\n",
            "5  106   Nikita    CSE     NIL\n",
            "6  107  Saurabh    CSE    4500\n",
            "7  108    Ayush    CSE    1800\n",
            "8  109    Dolly    CSE     250\n",
            "9  110    Mohit    CSE     NIL\n"
          ]
        }
      ],
      "source": [
        "\n",
        "import pandas as pd\n",
        "\n",
        "details = pd.DataFrame({\n",
        "'ID': [101, 102, 103, 104, 105,\n",
        "106, 107, 108, 109, 110],\n",
        "'NAME': ['Jagroop', 'Praveen', 'Harjot',\n",
        "'Pooja', 'Rahul', 'Nikita',\n",
        "'Saurabh', 'Ayush', 'Dolly', \"Mohit\"],\n",
        "'BRANCH': ['CSE', 'CSE', 'CSE', 'CSE', 'CSE',\n",
        "'CSE', 'CSE', 'CSE', 'CSE', 'CSE']})\n",
        "\n",
        "fees_status = pd.DataFrame(\n",
        "{'ID': [101, 102, 103, 104, 105,\n",
        "106, 107, 108, 109, 110],\n",
        "'PENDING': ['5000', '250', 'NIL',\n",
        "'9000', '15000', 'NIL',\n",
        "'4500', '1800', '250', 'NIL']})\n",
        "\n",
        "print(pd.merge(details, fees_status, on='ID'))\n"
      ]
    },
    {
      "cell_type": "code",
      "execution_count": 36,
      "metadata": {
        "trusted": true
      },
      "outputs": [
        {
          "name": "stdout",
          "output_type": "stream",
          "text": [
            "       Brand  Year  Sold\n",
            "0     Maruti  2010     6\n",
            "1     Maruti  2011     7\n",
            "2     Maruti  2009     9\n",
            "3     Maruti  2013     8\n",
            "4    Hyundai  2010     3\n",
            "5    Hyundai  2011     5\n",
            "6     Toyota  2011     2\n",
            "7   Mahindra  2010     8\n",
            "8   Mahindra  2013     7\n",
            "9       Ford  2010     2\n",
            "10    Toyota  2010     4\n",
            "11      Ford  2011     2\n"
          ]
        }
      ],
      "source": [
        "\n",
        "import pandas as pd\n",
        "\n",
        "car_selling_data = {'Brand': ['Maruti', 'Maruti', 'Maruti',\n",
        "                            'Maruti', 'Hyundai', 'Hyundai',\n",
        "                            'Toyota', 'Mahindra', 'Mahindra',\n",
        "                            'Ford', 'Toyota', 'Ford'],\n",
        "                    'Year': [2010, 2011, 2009, 2013,\n",
        "                            2010, 2011, 2011, 2010,\n",
        "                            2013, 2010, 2010, 2011],\n",
        "                    'Sold': [6, 7, 9, 8, 3, 5,\n",
        "                            2, 8, 7, 2, 4, 2]}\n",
        "\n",
        "\n",
        "df = pd.DataFrame(car_selling_data)\n",
        "\n",
        "print(df)\n"
      ]
    },
    {
      "cell_type": "code",
      "execution_count": 37,
      "metadata": {
        "trusted": true
      },
      "outputs": [
        {
          "name": "stdout",
          "output_type": "stream",
          "text": [
            "       Brand  Year  Sold\n",
            "0     Maruti  2010     6\n",
            "4    Hyundai  2010     3\n",
            "7   Mahindra  2010     8\n",
            "9       Ford  2010     2\n",
            "10    Toyota  2010     4\n"
          ]
        }
      ],
      "source": [
        "\n",
        "import pandas as pd\n",
        "\n",
        "car_selling_data = {'Brand': ['Maruti', 'Maruti', 'Maruti',\n",
        "                            'Maruti', 'Hyundai', 'Hyundai',\n",
        "                            'Toyota', 'Mahindra', 'Mahindra',\n",
        "                            'Ford', 'Toyota', 'Ford'],\n",
        "                    'Year': [2010, 2011, 2009, 2013,\n",
        "                            2010, 2011, 2011, 2010,\n",
        "                            2013, 2010, 2010, 2011],\n",
        "                    'Sold': [6, 7, 9, 8, 3, 5,\n",
        "                            2, 8, 7, 2, 4, 2]}\n",
        "\n",
        "df = pd.DataFrame(car_selling_data)\n",
        "\n",
        "grouped = df.groupby('Year')\n",
        "print(grouped.get_group(2010))\n"
      ]
    },
    {
      "cell_type": "code",
      "execution_count": 38,
      "metadata": {
        "trusted": true
      },
      "outputs": [
        {
          "name": "stdout",
          "output_type": "stream",
          "text": [
            "        Name  Roll_no                 Email\n",
            "0       Amit       23        xxxx@gmail.com\n",
            "1    Praveen       54      xxxxxx@gmail.com\n",
            "2    Jagroop       29      xxxxxx@gmail.com\n",
            "3      Rahul       36          xx@gmail.com\n",
            "4     Vishal       59        xxxx@gmail.com\n",
            "5      Suraj       38       xxxxx@gmail.com\n",
            "6     Rishab       12       xxxxx@gmail.com\n",
            "7   Satyapal       45       xxxxx@gmail.com\n",
            "8       Amit       34       xxxxx@gmail.com\n",
            "9      Rahul       36      xxxxxx@gmail.com\n",
            "10   Praveen       54  xxxxxxxxxx@gmail.com\n",
            "11      Amit       23  xxxxxxxxxx@gmail.com\n"
          ]
        }
      ],
      "source": [
        "\n",
        "import pandas as pd\n",
        "\n",
        "student_data = {'Name': ['Amit', 'Praveen', 'Jagroop',\n",
        "                        'Rahul', 'Vishal', 'Suraj',\n",
        "                        'Rishab', 'Satyapal', 'Amit',\n",
        "                        'Rahul', 'Praveen', 'Amit'],\n",
        "\n",
        "                'Roll_no': [23, 54, 29, 36, 59, 38,\n",
        "                            12, 45, 34, 36, 54, 23],\n",
        "\n",
        "                'Email': ['xxxx@gmail.com', 'xxxxxx@gmail.com',\n",
        "                        'xxxxxx@gmail.com', 'xx@gmail.com',\n",
        "                        'xxxx@gmail.com', 'xxxxx@gmail.com',\n",
        "                        'xxxxx@gmail.com', 'xxxxx@gmail.com',\n",
        "                        'xxxxx@gmail.com', 'xxxxxx@gmail.com',\n",
        "                        'xxxxxxxxxx@gmail.com', 'xxxxxxxxxx@gmail.com']}\n",
        "\n",
        "\n",
        "df = pd.DataFrame(student_data)\n",
        "\n",
        "print(df)\n"
      ]
    },
    {
      "cell_type": "code",
      "execution_count": 39,
      "metadata": {
        "trusted": true
      },
      "outputs": [
        {
          "name": "stdout",
          "output_type": "stream",
          "text": [
            "       Name  Roll_no             Email\n",
            "0      Amit       23    xxxx@gmail.com\n",
            "1   Praveen       54  xxxxxx@gmail.com\n",
            "2   Jagroop       29  xxxxxx@gmail.com\n",
            "3     Rahul       36      xx@gmail.com\n",
            "4    Vishal       59    xxxx@gmail.com\n",
            "5     Suraj       38   xxxxx@gmail.com\n",
            "6    Rishab       12   xxxxx@gmail.com\n",
            "7  Satyapal       45   xxxxx@gmail.com\n",
            "8      Amit       34   xxxxx@gmail.com\n"
          ]
        }
      ],
      "source": [
        "\n",
        "import pandas as pd\n",
        "\n",
        "student_data = {'Name': ['Amit', 'Praveen', 'Jagroop',\n",
        "                        'Rahul', 'Vishal', 'Suraj',\n",
        "                        'Rishab', 'Satyapal', 'Amit',\n",
        "                        'Rahul', 'Praveen', 'Amit'],\n",
        "\n",
        "                'Roll_no': [23, 54, 29, 36, 59, 38,\n",
        "                            12, 45, 34, 36, 54, 23],\n",
        "\n",
        "                'Email': ['xxxx@gmail.com', 'xxxxxx@gmail.com',\n",
        "                        'xxxxxx@gmail.com', 'xx@gmail.com',\n",
        "                        'xxxx@gmail.com', 'xxxxx@gmail.com',\n",
        "                        'xxxxx@gmail.com', 'xxxxx@gmail.com',\n",
        "                        'xxxxx@gmail.com', 'xxxxxx@gmail.com',\n",
        "                        'xxxxxxxxxx@gmail.com', 'xxxxxxxxxx@gmail.com']}\n",
        "\n",
        "\n",
        "df = pd.DataFrame(student_data)\n",
        "\n",
        "non_duplicate = df[~df.duplicated('Roll_no')]\n",
        "\n",
        "print(non_duplicate)\n"
      ]
    },
    {
      "cell_type": "code",
      "execution_count": 4,
      "metadata": {
        "trusted": true
      },
      "outputs": [],
      "source": [
        "\n",
        "import pandas as pd\n",
        "   \n",
        "data1 = {'Name':['Jai', 'Princi', 'Gaurav', 'Anuj'],\n",
        "        'Age':[27, 24, 22, 32],\n",
        "        'Address':['Nagpur', 'Kanpur', 'Allahabad', 'Kannuaj'],\n",
        "        'Qualification':['Msc', 'MA', 'MCA', 'Phd'],\n",
        "        'Mobile No': [97, 91, 58, 76]}\n",
        "     \n",
        "\n",
        "data2 = {'Name':['Gaurav', 'Anuj', 'Dhiraj', 'Hitesh'],\n",
        "        'Age':[22, 32, 12, 52],\n",
        "        'Address':['Allahabad', 'Kannuaj', 'Allahabad', 'Kannuaj'],\n",
        "        'Qualification':['MCA', 'Phd', 'Bcom', 'B.hons'],\n",
        "        'Salary':[1000, 2000, 3000, 4000]}\n",
        "   \n",
        "\n",
        "df = pd.DataFrame(data1,index=[0, 1, 2, 3])\n",
        "   \n",
        " \n",
        "df1 = pd.DataFrame(data2, index=[2, 3, 6, 7])\n"
      ]
    },
    {
      "cell_type": "code",
      "execution_count": 5,
      "metadata": {
        "trusted": true
      },
      "outputs": [],
      "source": [
        "res = pd.concat([df, df1])"
      ]
    },
    {
      "cell_type": "code",
      "execution_count": 6,
      "metadata": {},
      "outputs": [
        {
          "name": "stdout",
          "output_type": "stream",
          "text": [
            "     Name  Age    Address Qualification  Mobile No  Salary\n",
            "0     Jai   27     Nagpur           Msc       97.0     NaN\n",
            "1  Princi   24     Kanpur            MA       91.0     NaN\n",
            "2  Gaurav   22  Allahabad           MCA       58.0     NaN\n",
            "3    Anuj   32    Kannuaj           Phd       76.0     NaN\n",
            "2  Gaurav   22  Allahabad           MCA        NaN  1000.0\n",
            "3    Anuj   32    Kannuaj           Phd        NaN  2000.0\n",
            "6  Dhiraj   12  Allahabad          Bcom        NaN  3000.0\n",
            "7  Hitesh   52    Kannuaj        B.hons        NaN  4000.0\n"
          ]
        }
      ],
      "source": [
        "print(res)"
      ]
    }
  ],
  "metadata": {
    "kernelspec": {
      "display_name": "Python 3",
      "language": "python",
      "name": "python3"
    },
    "language_info": {
      "codemirror_mode": {
        "name": "ipython",
        "version": 3
      },
      "file_extension": ".py",
      "mimetype": "text/x-python",
      "name": "python",
      "nbconvert_exporter": "python",
      "pygments_lexer": "ipython3",
      "version": "3.11.3"
    }
  },
  "nbformat": 4,
  "nbformat_minor": 4
}
