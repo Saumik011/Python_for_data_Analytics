{
 "cells": [
  {
   "cell_type": "code",
   "execution_count": 1,
   "metadata": {},
   "outputs": [
    {
     "name": "stdout",
     "output_type": "stream",
     "text": [
      "['The']\n",
      "Yes, there is a match!\n"
     ]
    }
   ],
   "source": [
    "import re\n",
    "txt = \"The rain in Spain\"\n",
    "x = re.findall(\"\\AThe\", txt)\n",
    "print(x)\n",
    "if x:\n",
    " print(\"Yes, there is a match!\")\n",
    "else:\n",
    " print(\"No match\")"
   ]
  },
  {
   "cell_type": "code",
   "execution_count": 3,
   "metadata": {},
   "outputs": [
    {
     "name": "stdout",
     "output_type": "stream",
     "text": [
      "<re.Match object; span=(21, 27), match='portal'>\n",
      "portal\n",
      "Start Index: 21\n",
      "End Index: 27\n"
     ]
    }
   ],
   "source": [
    "match = re.search(r'portal', 'A computer science \\ portal for Education')\n",
    "print(match)\n",
    "print(match.group())\n",
    "print('Start Index:', match.start())\n",
    "print('End Index:', match.end())\n"
   ]
  },
  {
   "cell_type": "code",
   "execution_count": 4,
   "metadata": {},
   "outputs": [
    {
     "name": "stdout",
     "output_type": "stream",
     "text": [
      "['Education', 'education', 'education']\n"
     ]
    }
   ],
   "source": [
    "print(re.findall(r'[Ee]ducation', 'Education of education: \\ A computer science portal for education'))\n"
   ]
  },
  {
   "cell_type": "code",
   "execution_count": 7,
   "metadata": {},
   "outputs": [
    {
     "ename": "SyntaxError",
     "evalue": "invalid syntax (159891706.py, line 2)",
     "output_type": "error",
     "traceback": [
      "\u001b[1;36m  Cell \u001b[1;32mIn[7], line 2\u001b[1;36m\u001b[0m\n\u001b[1;33m    Range <re.Match object; span=(0, 1), match='x'>\u001b[0m\n\u001b[1;37m                    ^\u001b[0m\n\u001b[1;31mSyntaxError\u001b[0m\u001b[1;31m:\u001b[0m invalid syntax\n"
     ]
    }
   ],
   "source": [
    "print('Range',re.search(r'[a-zA-Z]', 'x'))\n",
    "Range <re.Match object; span=(0, 1), match='x'>\n",
    "x = range(3, 6)\n",
    "for n in x:\n",
    " print(n)\n",
    " x = range(3, 20, 2)\n",
    "for n in x:\n",
    " print(n)\n",
    " \n",
    "\n"
   ]
  },
  {
   "cell_type": "code",
   "execution_count": 8,
   "metadata": {},
   "outputs": [
    {
     "name": "stdout",
     "output_type": "stream",
     "text": [
      "Color <re.Match object; span=(0, 5), match='color'>\n",
      "Colour <re.Match object; span=(0, 6), match='colour'>\n"
     ]
    }
   ],
   "source": [
    "print('Color',re.search(r'colou?r', 'color'))\n",
    "print('Colour',re.search(r'colou?r', 'colour'))"
   ]
  },
  {
   "cell_type": "code",
   "execution_count": 10,
   "metadata": {},
   "outputs": [
    {
     "name": "stdout",
     "output_type": "stream",
     "text": [
      "Date{mm-dd-yyyy}: <re.Match object; span=(0, 10), match='13-07-2023'>\n",
      "Three Digit: <re.Match object; span=(0, 3), match='189'>\n",
      "Four Digit: <re.Match object; span=(0, 4), match='2145'>\n"
     ]
    }
   ],
   "source": [
    "print('Date{mm-dd-yyyy}:', re.search(r'[\\d]{2}-[\\d]{2}-[\\d]{4}','13-07-2023'))\n",
    "\n",
    "print('Three Digit:', re.search(r'[\\d]{3,4}', '189'))\n",
    "print('Four Digit:', re.search(r'[\\d]{3,4}', '2145'))\n"
   ]
  },
  {
   "cell_type": "code",
   "execution_count": 11,
   "metadata": {},
   "outputs": [
    {
     "name": "stdout",
     "output_type": "stream",
     "text": [
      "<re.Match object; span=(0, 1), match='5'>\n",
      "<re.Match object; span=(0, 1), match='5'>\n",
      "<re.Match object; span=(0, 10), match='12-07-2023'>\n",
      "('14', '07', '2023')\n",
      "2023\n"
     ]
    }
   ],
   "source": [
    "print(re.search(r'[\\d]{1,}','5th Floor, B-218,\\ Sector-136, Noida, Uttar Pradesh - 201405'))\n",
    "print(re.search(r'[\\d]+','5th Floor, B-218,\\Sector-136, Noida, Uttar Pradesh - 201405'))\n",
    "grp = re.search(r'([\\d]{2})-([\\d]{2})-([\\d]{4})', '12-07-2023')\n",
    "print(grp)\n",
    "grp = re.search(r'([\\d]{2})-([\\d]{2})-([\\d]{4})','14-07-2023')\n",
    "print(grp.groups())\n",
    "grp = re.search(r'([\\d]{2})-([\\d]{2})-([\\d]{4})','14-07-2023')\n",
    "print(grp.group(3))\n",
    "\n",
    "\n"
   ]
  },
  {
   "cell_type": "code",
   "execution_count": 12,
   "metadata": {},
   "outputs": [
    {
     "name": "stdout",
     "output_type": "stream",
     "text": [
      "14\n",
      "{'dd': '14', 'mm': '07', 'yyyy': '2023'}\n",
      "negation: None\n",
      "lookahead: <re.Match object; span=(5, 6), match='n'>\n",
      "positive lookahead <re.Match object; span=(5, 6), match='n'>\n",
      "1111222233334444\n"
     ]
    }
   ],
   "source": [
    "grp = re.search(r'(?P<dd>[\\d]{2})-(?P<mm>[\\d]{2})-(?P<yyyy>[\\d]{4})','14-07-2023')\n",
    "print(grp.group('dd'))\n",
    "grp = re.search(r'(?P<dd>[\\d]{2})-(?P<mm>[\\d]{2})-(?P<yyyy>[\\d]{4})','14-07-2023')\n",
    "print(grp.groupdict())\n",
    "print('negation:', re.search(r'n[^e]', 'Python'))\n",
    "print('lookahead:', re.search(r'n(?!e)', 'Python'))\n",
    "print('positive lookahead', re.search(r'n(?=e)', 'jasmine'))\n",
    "print(re.sub(r'([\\d]{4})-([\\d]{4})-([\\d]{4})-([\\d]{4})',r'\\1\\2\\3\\4','1111-2222-3333-4444'))\n",
    " \n",
    "\n",
    "\n",
    "\n",
    "\n"
   ]
  },
  {
   "cell_type": "code",
   "execution_count": 13,
   "metadata": {},
   "outputs": [
    {
     "name": "stdout",
     "output_type": "stream",
     "text": [
      "compiled reg expr <re.Match object; span=(0, 10), match='13-07-2023'>\n",
      "13.07.2023\n"
     ]
    }
   ],
   "source": [
    "regex = re.compile(r'([\\d]{2})-([\\d]{2})-([\\d]{4})')\n",
    "print('compiled reg expr', regex.search('13-07-2023'))\n",
    "print(regex.sub(r'\\1.\\2.\\3', '13-07-2023'))\n",
    "\n"
   ]
  }
 ],
 "metadata": {
  "kernelspec": {
   "display_name": "Python 3",
   "language": "python",
   "name": "python3"
  },
  "language_info": {
   "codemirror_mode": {
    "name": "ipython",
    "version": 3
   },
   "file_extension": ".py",
   "mimetype": "text/x-python",
   "name": "python",
   "nbconvert_exporter": "python",
   "pygments_lexer": "ipython3",
   "version": "3.11.3"
  },
  "orig_nbformat": 4
 },
 "nbformat": 4,
 "nbformat_minor": 2
}
